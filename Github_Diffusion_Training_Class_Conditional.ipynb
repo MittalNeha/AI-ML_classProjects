{
  "cells": [
    {
      "cell_type": "markdown",
      "metadata": {
        "id": "view-in-github",
        "colab_type": "text"
      },
      "source": [
        "<a href=\"https://colab.research.google.com/github/MittalNeha/AI-ML_classProjects/blob/master/Github_Diffusion_Training_Class_Conditional.ipynb\" target=\"_parent\"><img src=\"https://colab.research.google.com/assets/colab-badge.svg\" alt=\"Open In Colab\"/></a>"
      ]
    },
    {
      "cell_type": "markdown",
      "source": [
        "### Train a Class Conditional Image Generation using Diffusion Models:\n",
        "\n",
        "- To see more details on the code and model training visit the [Github Repo](https://github.com/apapiu/guided-diffusion-keras)\n",
        "\n",
        "Make sure to go to Runtime and set your Hardware -> Change Runtime Type and have the accelerator set to GPU!\n",
        "\n",
        "Note that this notebook does **not** read or write anything to your machine nor does it need any access to google drive or outside sources. All the downloads happen within this notebook and once you close it, it will all go gone poof!\n",
        "\n",
        "- Author: Alexandru Papiu\n",
        "- Email: alexpapiu@gmail.com\n"
      ],
      "metadata": {
        "id": "BlE_GFdbbS2Y"
      }
    },
    {
      "cell_type": "code",
      "source": [
        "# @title Licensed under the MIT License\n",
        "\n",
        "# Copyright (c) 2022 Alexandru Papiu\n",
        "\n",
        "# Permission is hereby granted, free of charge, to any person obtaining a copy\n",
        "# of this software and associated documentation files (the \"Software\"), to deal\n",
        "# in the Software without restriction, including without limitation the rights\n",
        "# to use, copy, modify, merge, publish, distribute, sublicense, and/or sell\n",
        "# copies of the Software, and to permit persons to whom the Software is\n",
        "# furnished to do so, subject to the following conditions:\n",
        "\n",
        "# The above copyright notice and this permission notice shall be included in\n",
        "# all copies or substantial portions of the Software.\n",
        "\n",
        "# THE SOFTWARE IS PROVIDED \"AS IS\", WITHOUT WARRANTY OF ANY KIND, EXPRESS OR\n",
        "# IMPLIED, INCLUDING BUT NOT LIMITED TO THE WARRANTIES OF MERCHANTABILITY,\n",
        "# FITNESS FOR A PARTICULAR PURPOSE AND NONINFRINGEMENT. IN NO EVENT SHALL THE\n",
        "# AUTHORS OR COPYRIGHT HOLDERS BE LIABLE FOR ANY CLAIM, DAMAGES OR OTHER\n",
        "# LIABILITY, WHETHER IN AN ACTION OF CONTRACT, TORT OR OTHERWISE, ARISING FROM,\n",
        "# OUT OF OR IN CONNECTION WITH THE SOFTWARE OR THE USE OR OTHER DEALINGS IN\n",
        "# THE SOFTWARE."
      ],
      "metadata": {
        "cellView": "form",
        "id": "ms2lxPILN8Da"
      },
      "execution_count": null,
      "outputs": []
    },
    {
      "cell_type": "code",
      "execution_count": null,
      "metadata": {
        "id": "3yWoJqNX3IJL"
      },
      "outputs": [],
      "source": [
        "#clone the repo so you can mess around with it:\n",
        "!git clone https://github.com/apapiu/guided-diffusion-keras.git\n",
        "! pip install git+https://github.com/openai/CLIP.git\n",
        "\n",
        "# #this is where the data is:\n",
        "# !git lfs install\n",
        "# !git clone https://huggingface.co/apapiu/diffusion_model_aesthetic_keras\n",
        "\n",
        "import os\n",
        "import sys\n",
        "import numpy as np\n",
        "import pandas as pd\n",
        "\n",
        "from tensorflow.keras.datasets import mnist, fashion_mnist, cifar10, cifar100\n",
        "from keras.utils.vis_utils import plot_model\n",
        "\n",
        "from tensorflow import keras\n",
        "from matplotlib import pyplot as plt\n",
        "\n",
        "####local imports:\n",
        "sys.path.append(\"/content/guided-diffusion-keras/guided_diffusion\")\n",
        "from denoiser import get_network\n",
        "from utils import batch_generator, plot_images, get_data, preprocess\n",
        "from diffuser import Diffuser"
      ]
    },
    {
      "cell_type": "code",
      "source": [
        "#########\n",
        "# CONFIG:\n",
        "#########\n",
        "\n",
        "train_model=True\n",
        "epochs = 50\n",
        "\n",
        "file_name = \"fashion_mnist\" #cifar100, fashion_mnist, mnist, cifar10\n",
        "\n",
        "# architecture\n",
        "channels = 64\n",
        "channel_multiplier = [1, 2, 3]\n",
        "block_depth = 2\n",
        "emb_size = 512  # CLIP/label embedding\n",
        "num_classes = 12  # only used if precomputed_embedding=False\n",
        "attention_levels = [0, 1, 0]\n",
        "\n",
        "embedding_dims = 32\n",
        "embedding_max_frequency = 1000.0\n",
        "\n",
        "precomputed_embedding = False\n",
        "save_in_drive = False\n",
        "widths = [c * channels for c in channel_multiplier]\n",
        "\n",
        "###train process config:\n",
        "batch_size = 64\n",
        "num_imgs = 100 #num imgs to test on - should be a square - 25, 64, 100 etc.\n",
        "row = int(np.sqrt(num_imgs))\n",
        "class_guidance = 3\n",
        "\n",
        "learning_rate = 0.0003\n",
        "\n",
        "MODEL_NAME = \"model_test\"\n",
        "from_scratch = True #if False will load model from model path and continue training\n",
        "\n",
        "data_dir = '/content/diffusion_model_aesthetic_keras'\n",
        "captions_path = os.path.join(data_dir, \"captions.csv\")\n",
        "imgs_path = os.path.join(data_dir, \"imgs.npy\")\n",
        "embedding_path = os.path.join(data_dir, \"embeddings.npy\")\n",
        "\n",
        "if save_in_drive:\n",
        "    from google.colab import drive\n",
        "    drive.mount('/content/drive')\n",
        "    drive_path = '/content/drive/MyDrive/'\n",
        "    home_dir = os.path.join(drive_path, MODEL_NAME)\n",
        "else:\n",
        "    home_dir = MODEL_NAME\n",
        "\n",
        "if not os.path.exists(home_dir):\n",
        "    os.mkdir(home_dir)\n",
        "\n",
        "model_path = os.path.join(home_dir, MODEL_NAME + \".h5\")"
      ],
      "metadata": {
        "id": "IvNp0RSNp1op"
      },
      "execution_count": null,
      "outputs": []
    },
    {
      "cell_type": "code",
      "execution_count": null,
      "metadata": {
        "id": "n06lorn65G_g"
      },
      "outputs": [],
      "source": [
        "##################################\n",
        "###########Loading Data And Model:\n",
        "##################################\n",
        "\n",
        "if file_name == \"cifar10\":\n",
        "    (train_data, train_label_embeddings), (_, _) = cifar10.load_data()\n",
        "    #0 is used as a unconditional embedding:\n",
        "    train_label_embeddings = train_label_embeddings + 1\n",
        "elif file_name == \"cifar100\":\n",
        "    (train_data, train_label_embeddings), (_, _) = cifar100.load_data()\n",
        "    #0 is used as unconditional embedding:\n",
        "    train_label_embeddings = train_label_embeddings + 1\n",
        "elif file_name == \"fashion_mnist\":\n",
        "    (train_data, train_label_embeddings), (_, _) = fashion_mnist.load_data()\n",
        "    train_data = train_data[:, :, :, None] #add extra dim at the end\n",
        "    train_label_embeddings = train_label_embeddings[:, None]\n",
        "    train_label_embeddings = train_label_embeddings + 1\n",
        "    class_guidance = 1 #FASHION mnist does not do well with larger guidances - why?\n",
        "elif file_name == \"mnist\":\n",
        "    (train_data, train_label_embeddings), (_, _) = mnist.load_data()\n",
        "    train_data = train_data[:, :, :, None] #add extra dim at the end\n",
        "    train_label_embeddings = train_label_embeddings[:, None]\n",
        "    train_label_embeddings = train_label_embeddings + 1\n",
        "    class_guidance = 1.5 \n",
        "else:\n",
        "    #load the data from a numpy file file:\n",
        "    captions = pd.read_csv(captions_path)\n",
        "    train_data, train_label_embeddings = np.load(imgs_path), np.load(embedding_path)\n",
        "\n",
        "    #train_data, train_label_embeddings = get_data(npz_file_name=file_name, prop=0.6, captions=False)\n",
        "\n",
        "print(train_data.shape)\n",
        "\n",
        "image_size = train_data.shape[1]\n",
        "num_channels = train_data.shape[-1]\n",
        "\n",
        "if precomputed_embedding:\n",
        "    labels = train_label_embeddings[:num_imgs]\n",
        "else:\n",
        "    labels = np.array([[i] * row for i in np.arange(row)]).flatten()[:, None]\n",
        "    labels += 1\n",
        "\n",
        "\n",
        "np.random.seed(100)\n",
        "rand_image = np.random.normal(0, 1, (num_imgs, image_size, image_size, num_channels))\n",
        "\n",
        "if from_scratch:\n",
        "    autoencoder = get_network(image_size,\n",
        "                              widths,\n",
        "                              block_depth,\n",
        "                              num_classes=num_classes,\n",
        "                              attention_levels=attention_levels,\n",
        "                              emb_size=emb_size,\n",
        "                              num_channels=num_channels,\n",
        "                              precomputed_embedding=precomputed_embedding)\n",
        "\n",
        "    autoencoder.compile(optimizer=\"adam\", loss=\"mae\")\n",
        "else:\n",
        "    autoencoder = keras.models.load_model(model_path)\n",
        "\n",
        "\n",
        "##################\n",
        "#Some data checks:\n",
        "##################\n",
        "\n",
        "print(\"Number of pamaters is {0}\".format(autoencoder.count_params()))\n",
        "pd.Series(train_data[:1000].ravel()).hist(bins=80)\n",
        "plt.show()\n",
        "print(\"Original Images:\")\n",
        "plot_images(preprocess(train_data[:num_imgs]), nrows=int(np.sqrt(num_imgs)))\n",
        "plot_model(autoencoder, to_file=os.path.join(home_dir, 'model_plot.png'),\n",
        "           show_shapes=True, show_layer_names=True)\n",
        "print(\"Generating Images below:\")\n",
        "\n",
        "#############################\n",
        "#!create generator and train:\n",
        "#############################\n",
        "\n",
        "\n",
        "diffuser = Diffuser(autoencoder,\n",
        "                    class_guidance=class_guidance,\n",
        "                    diffusion_steps=35)\n",
        "\n",
        "if train_model:\n",
        "    train_generator = batch_generator(autoencoder,\n",
        "                                    model_path,\n",
        "                                    train_data,\n",
        "                                    train_label_embeddings,\n",
        "                                    epochs,\n",
        "                                    batch_size,\n",
        "                                    rand_image,\n",
        "                                    labels,\n",
        "                                    home_dir,\n",
        "                                    diffuser)\n",
        "\n",
        "    autoencoder.optimizer.learning_rate.assign(learning_rate)\n",
        "\n",
        "    eval_nums = autoencoder.fit(\n",
        "        x=train_generator,\n",
        "        epochs=epochs,\n",
        "    )"
      ]
    },
    {
      "cell_type": "markdown",
      "metadata": {
        "id": "xee7_Ata-1zL"
      },
      "source": [
        "Permutation Tests"
      ]
    },
    {
      "cell_type": "code",
      "source": [
        "################################################"
      ],
      "metadata": {
        "id": "CnXoEU5Rqoom"
      },
      "execution_count": null,
      "outputs": []
    },
    {
      "cell_type": "code",
      "execution_count": null,
      "metadata": {
        "id": "-youczbB_72l"
      },
      "outputs": [],
      "source": [
        "# big_diffuser = Diffuser(autoencoder,\n",
        "#                         class_guidance=3,\n",
        "#                         diffusion_steps=50)\n",
        "\n",
        "# label_num = 3\n",
        "\n",
        "# labels_ohe[:] = label_num\n",
        "# imgs = big_diffuser.reverse_diffusion(rand_image, labels_ohe)\n",
        "# imgs_combined = np.vstack([imgs[:50], \n",
        "#                            preprocess(train_data[train_label_embeddings[:, 0] == label_num][:50])]\n",
        "#                                       )\n",
        "# plot_images(imgs_combined, nrows=10)\n",
        "# plt.show()\n",
        "# print(\"permutation_test\")\n",
        "# np.random.shuffle(imgs_combined)\n",
        "# plot_images(imgs_combined, nrows=10)\n",
        "# plt.show()"
      ]
    }
  ],
  "metadata": {
    "accelerator": "GPU",
    "colab": {
      "machine_shape": "hm",
      "provenance": [],
      "include_colab_link": true
    },
    "kernelspec": {
      "display_name": "Python 3",
      "name": "python3"
    },
    "language_info": {
      "name": "python"
    }
  },
  "nbformat": 4,
  "nbformat_minor": 0
}